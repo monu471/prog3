{
 "cells": [
  {
   "cell_type": "code",
   "execution_count": null,
   "id": "dcfc892e",
   "metadata": {},
   "outputs": [],
   "source": [
    "# Write a Python Program to Check if a Number is Positive, Negative or Zero?\n",
    "a  = int(input(\"enter a number\"))\n",
    "b = 0\n",
    "if a>b:\n",
    "    print(\"number is positive\")\n",
    "elif(a<b):\n",
    "    print(\"number is negative\") \n",
    "else:\n",
    "    print(\"number is zero\")\n",
    "    "
   ]
  },
  {
   "cell_type": "code",
   "execution_count": null,
   "id": "c9aaffcb",
   "metadata": {},
   "outputs": [],
   "source": [
    "# Write a Python Program to Check if a Number is Odd or Even?\n",
    "a  = int(input(\"enter a number\"))\n",
    "if a%2==0:\n",
    "    print(\"number is even\")\n",
    "else:\n",
    "    print(\"number is odd\")"
   ]
  },
  {
   "cell_type": "code",
   "execution_count": null,
   "id": "67d76632",
   "metadata": {},
   "outputs": [],
   "source": [
    "# Write a Python Program to Check Leap Year?\n",
    "a =int(input(\"enter a year\\n\"))\n",
    "if a %4==0:\n",
    "    if a%100==0:\n",
    "        if a%400==0:\n",
    "            print(\"this year is leap year\")\n",
    "        else:\n",
    "            print(\"this year is not leap year\")\n",
    "    else:\n",
    "        print(\"this year is leap year\")\n",
    "else:\n",
    "    print(\"this year is not leap year\")\n",
    "    "
   ]
  },
  {
   "cell_type": "code",
   "execution_count": null,
   "id": "ab316b42",
   "metadata": {},
   "outputs": [],
   "source": [
    "# Write a Python Program to Check Prime Number?\n",
    "a  = int(input(\"enter a number \\n\"))\n",
    "if a >1:\n",
    "    for i in range(2,a):\n",
    "        if a%i ==0:\n",
    "            print(\"number is  not prime\")\n",
    "            break\n",
    "    else:\n",
    "        print(\"number is prime\")\n",
    "            \n",
    "else:\n",
    "    print(\"enter number greater then 1\")"
   ]
  },
  {
   "cell_type": "code",
   "execution_count": null,
   "id": "eba77f19",
   "metadata": {},
   "outputs": [],
   "source": [
    "# Write a Python Program to Print all Prime Numbers in an Interval of 1-10000?\n",
    "a = 10000\n",
    "for i in range(2,a+1):\n",
    "    for j in range(2,i):\n",
    "        if i%j==0:\n",
    "            break\n",
    "    else:\n",
    "         print(i)"
   ]
  },
  {
   "cell_type": "code",
   "execution_count": null,
   "id": "45ccd9ca",
   "metadata": {},
   "outputs": [],
   "source": []
  }
 ],
 "metadata": {
  "kernelspec": {
   "display_name": "Python 3 (ipykernel)",
   "language": "python",
   "name": "python3"
  },
  "language_info": {
   "codemirror_mode": {
    "name": "ipython",
    "version": 3
   },
   "file_extension": ".py",
   "mimetype": "text/x-python",
   "name": "python",
   "nbconvert_exporter": "python",
   "pygments_lexer": "ipython3",
   "version": "3.9.12"
  }
 },
 "nbformat": 4,
 "nbformat_minor": 5
}
